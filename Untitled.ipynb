{
 "cells": [
  {
   "cell_type": "code",
   "execution_count": 1,
   "metadata": {},
   "outputs": [],
   "source": [
    "# Import Dependencies\n",
    "import pandas as pd\n",
    "import requests\n",
    "import json"
   ]
  },
  {
   "cell_type": "code",
   "execution_count": 2,
   "metadata": {},
   "outputs": [],
   "source": [
    "# Create base url\n",
    "base_url = \"https://crashviewer.nhtsa.dot.gov/CrashAPI/analytics/GetInjurySeverityCounts?\"\n",
    "\n",
    "# Store parameters\n",
    "fromYear = 2015\n",
    "toYear = 2015\n",
    "\n",
    "# build partial query url\n",
    "partial_url = f\"{base_url}fromCaseYear={fromYear}&toCaseYear={toYear}\""
   ]
  },
  {
   "cell_type": "code",
   "execution_count": 3,
   "metadata": {},
   "outputs": [
    {
     "name": "stdout",
     "output_type": "stream",
     "text": [
      "Querying state 1...\n",
      "Querying state 2...\n",
      "Querying state 3...\n",
      "State 3 not found. Trying next state...\n",
      "Querying state 4...\n",
      "Querying state 5...\n",
      "Querying state 6...\n",
      "Querying state 7...\n",
      "State 7 not found. Trying next state...\n",
      "Querying state 8...\n",
      "Querying state 9...\n",
      "Querying state 10...\n",
      "Querying state 11...\n",
      "Querying state 12...\n",
      "Querying state 13...\n",
      "Querying state 14...\n",
      "State 14 not found. Trying next state...\n",
      "Querying state 15...\n",
      "Querying state 16...\n",
      "Querying state 17...\n",
      "Querying state 18...\n",
      "Querying state 19...\n",
      "Querying state 20...\n",
      "Querying state 21...\n",
      "Querying state 22...\n",
      "Querying state 23...\n",
      "Querying state 24...\n",
      "Querying state 25...\n",
      "Querying state 26...\n",
      "Querying state 27...\n",
      "Querying state 28...\n",
      "Querying state 29...\n",
      "Querying state 30...\n",
      "Querying state 31...\n",
      "Querying state 32...\n",
      "Querying state 33...\n",
      "Querying state 34...\n",
      "Querying state 35...\n",
      "Querying state 36...\n",
      "Querying state 37...\n",
      "Querying state 38...\n",
      "Querying state 39...\n",
      "Querying state 40...\n",
      "Querying state 41...\n",
      "Querying state 42...\n",
      "Querying state 43...\n",
      "Querying state 44...\n",
      "Querying state 45...\n",
      "Querying state 46...\n",
      "Querying state 47...\n",
      "Querying state 48...\n",
      "Querying state 49...\n",
      "Querying state 50...\n"
     ]
    }
   ],
   "source": [
    "# Set up empty list to store data\n",
    "state_ids = []\n",
    "total_fatals = []\n",
    "\n",
    "# Run query 50 times, changing 'state=' to pull data from all 50 states\n",
    "for n in range(1,51):\n",
    "    query_url = f\"{partial_url}&state={n}&format=json\"\n",
    "    \n",
    "    try:\n",
    "        print(f\"Querying state {n}...\")\n",
    "        response = requests.get(query_url).json()\n",
    "        state_ids.append(n)\n",
    "        total_fatals.append(response[\"Results\"][0][0][\"TotalFatalCounts\"])\n",
    "        \n",
    "    except:\n",
    "        print(f\"State {n} not found. Trying next state...\")\n",
    "        total_fatals.append(None)"
   ]
  },
  {
   "cell_type": "code",
   "execution_count": 4,
   "metadata": {},
   "outputs": [],
   "source": [
    "# Create dictionary from lists\n",
    "accident_dict = {\n",
    "    \"state_id\": state_ids,\n",
    "    \"total_fatalaties\": total_fatals\n",
    "}\n",
    "\n",
    "accidentData = pd.DataFrame(accident_dict)"
   ]
  },
  {
   "cell_type": "code",
   "execution_count": 5,
   "metadata": {},
   "outputs": [
    {
     "ename": "NameError",
     "evalue": "name 'Resources' is not defined",
     "output_type": "error",
     "traceback": [
      "\u001b[0;31m---------------------------------------------------------------------------\u001b[0m",
      "\u001b[0;31mNameError\u001b[0m                                 Traceback (most recent call last)",
      "\u001b[0;32m<ipython-input-5-9521421eec2c>\u001b[0m in \u001b[0;36m<module>\u001b[0;34m\u001b[0m\n\u001b[1;32m      1\u001b[0m \u001b[0;31m# Read in binge drinking data\u001b[0m\u001b[0;34m\u001b[0m\u001b[0;34m\u001b[0m\u001b[0;34m\u001b[0m\u001b[0m\n\u001b[0;32m----> 2\u001b[0;31m \u001b[0mbinge_drinking\u001b[0m \u001b[0;34m=\u001b[0m \u001b[0mpd\u001b[0m\u001b[0;34m.\u001b[0m\u001b[0mread_csv\u001b[0m\u001b[0;34m(\u001b[0m\u001b[0mResources\u001b[0m\u001b[0;34m/\u001b[0m\u001b[0mBingeDrinkingPrevalence\u001b[0m\u001b[0;34m.\u001b[0m\u001b[0mcsv\u001b[0m\u001b[0;34m)\u001b[0m\u001b[0;34m\u001b[0m\u001b[0;34m\u001b[0m\u001b[0m\n\u001b[0m\u001b[1;32m      3\u001b[0m \u001b[0;34m\u001b[0m\u001b[0m\n\u001b[1;32m      4\u001b[0m \u001b[0;31m# Preview dataset\u001b[0m\u001b[0;34m\u001b[0m\u001b[0;34m\u001b[0m\u001b[0;34m\u001b[0m\u001b[0m\n\u001b[1;32m      5\u001b[0m \u001b[0mbinge_drinking\u001b[0m\u001b[0;34m.\u001b[0m\u001b[0mhead\u001b[0m\u001b[0;34m(\u001b[0m\u001b[0;34m)\u001b[0m\u001b[0;34m\u001b[0m\u001b[0;34m\u001b[0m\u001b[0m\n",
      "\u001b[0;31mNameError\u001b[0m: name 'Resources' is not defined"
     ]
    }
   ],
   "source": [
    "# Read in binge drinking data\n",
    "binge_drinking = pd.read_csv(Resources/BingeDrinkingPrevalence.csv)\n",
    "\n",
    "# Preview dataset\n",
    "binge_drinking.head()"
   ]
  },
  {
   "cell_type": "code",
   "execution_count": null,
   "metadata": {},
   "outputs": [],
   "source": []
  }
 ],
 "metadata": {
  "kernelspec": {
   "display_name": "Python 3",
   "language": "python",
   "name": "python3"
  },
  "language_info": {
   "codemirror_mode": {
    "name": "ipython",
    "version": 3
   },
   "file_extension": ".py",
   "mimetype": "text/x-python",
   "name": "python",
   "nbconvert_exporter": "python",
   "pygments_lexer": "ipython3",
   "version": "3.6.9"
  }
 },
 "nbformat": 4,
 "nbformat_minor": 2
}
